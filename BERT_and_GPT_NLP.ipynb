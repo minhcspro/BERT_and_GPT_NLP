{
 "cells": [
  {
   "cell_type": "code",
   "execution_count": 1,
   "metadata": {},
   "outputs": [],
   "source": [
    "import torch\n",
    "from transformers import AutoTokenizer, AutoModelForMaskedLM, AutoModelForCausalLM\n",
    "\n",
    "\n"
   ]
  },
  {
   "cell_type": "code",
   "execution_count": 2,
   "metadata": {},
   "outputs": [
    {
     "name": "stderr",
     "output_type": "stream",
     "text": [
      "Some weights of the model checkpoint at bert-base-uncased were not used when initializing BertForMaskedLM: ['cls.seq_relationship.bias', 'cls.seq_relationship.weight']\n",
      "- This IS expected if you are initializing BertForMaskedLM from the checkpoint of a model trained on another task or with another architecture (e.g. initializing a BertForSequenceClassification model from a BertForPreTraining model).\n",
      "- This IS NOT expected if you are initializing BertForMaskedLM from the checkpoint of a model that you expect to be exactly identical (initializing a BertForSequenceClassification model from a BertForSequenceClassification model).\n"
     ]
    }
   ],
   "source": [
    "# Load BERT Tokenizer and Model\n",
    "bert_tokenizer = AutoTokenizer.from_pretrained(\"bert-base-uncased\")\n",
    "bert_model = AutoModelForMaskedLM.from_pretrained(\"bert-base-uncased\")\n",
    "\n"
   ]
  },
  {
   "cell_type": "code",
   "execution_count": 3,
   "metadata": {},
   "outputs": [
    {
     "name": "stdout",
     "output_type": "stream",
     "text": [
      "BERT predicted token: play\n"
     ]
    }
   ],
   "source": [
    "# BERT Example - Masked Language Modeling\n",
    "text = \"I love to [MASK] in the park\"\n",
    "input_ids = bert_tokenizer.encode(text, return_tensors=\"pt\")\n",
    "mask_token_index = torch.where(input_ids == bert_tokenizer.mask_token_id)[1]\n",
    "\n",
    "outputs = bert_model(input_ids)\n",
    "predictions = outputs.logits[0, mask_token_index, :]\n",
    "predicted_index = torch.argmax(predictions, dim=1)\n",
    "\n",
    "predicted_token = bert_tokenizer.decode(predicted_index)\n",
    "print(\"BERT predicted token:\", predicted_token)\n",
    "\n"
   ]
  },
  {
   "cell_type": "code",
   "execution_count": 4,
   "metadata": {},
   "outputs": [],
   "source": [
    "# Load GPT Tokenizer and Model\n",
    "gpt_tokenizer = AutoTokenizer.from_pretrained(\"gpt2\")\n",
    "gpt_model = AutoModelForCausalLM.from_pretrained(\"gpt2\")\n",
    "\n"
   ]
  },
  {
   "cell_type": "code",
   "execution_count": 5,
   "metadata": {},
   "outputs": [
    {
     "name": "stderr",
     "output_type": "stream",
     "text": [
      "Setting `pad_token_id` to `eos_token_id`:50256 for open-end generation.\n"
     ]
    },
    {
     "name": "stdout",
     "output_type": "stream",
     "text": [
      "GPT generated text: Once upon a time, there was a young man born into a clan fighting in the sea and the clansmen could not kill him. When he did become the captain of the clansmen's cavalry, he had a talent of fighting fiercely against the kings\n"
     ]
    }
   ],
   "source": [
    "# GPT Example - Text Generation\n",
    "input_prompt = \"Once upon a time, there was a\"\n",
    "input_ids = gpt_tokenizer.encode(input_prompt, return_tensors=\"pt\")\n",
    "\n",
    "generated_ids = gpt_model.generate(input_ids, max_length=50, do_sample=True, top_k=50)\n",
    "generated_text = gpt_tokenizer.decode(generated_ids[0], skip_special_tokens=True)\n",
    "\n",
    "print(\"GPT generated text:\", generated_text)"
   ]
  }
 ],
 "metadata": {
  "kernelspec": {
   "display_name": "base",
   "language": "python",
   "name": "python3"
  },
  "language_info": {
   "codemirror_mode": {
    "name": "ipython",
    "version": 3
   },
   "file_extension": ".py",
   "mimetype": "text/x-python",
   "name": "python",
   "nbconvert_exporter": "python",
   "pygments_lexer": "ipython3",
   "version": "3.9.7"
  },
  "orig_nbformat": 4,
  "vscode": {
   "interpreter": {
    "hash": "300e8911d5b525e43c185dd70a6e23b530ba877fdd0c590c91a17430c2e80dba"
   }
  }
 },
 "nbformat": 4,
 "nbformat_minor": 2
}
